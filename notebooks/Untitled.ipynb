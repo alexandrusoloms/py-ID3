{
 "cells": [
  {
   "cell_type": "code",
   "execution_count": 5,
   "metadata": {},
   "outputs": [],
   "source": [
    "import os\n",
    "\n",
    "import numpy as np\n",
    "import pandas as pd"
   ]
  },
  {
   "cell_type": "code",
   "execution_count": 6,
   "metadata": {},
   "outputs": [
    {
     "data": {
      "text/plain": [
       "['class_example.csv']"
      ]
     },
     "execution_count": 6,
     "metadata": {},
     "output_type": "execute_result"
    }
   ],
   "source": [
    "data_path = os.path.join(os.path.dirname('__file__'), '..', ) + '/data/'\n",
    "os.listdir(data_path)"
   ]
  },
  {
   "cell_type": "code",
   "execution_count": 7,
   "metadata": {},
   "outputs": [
    {
     "data": {
      "text/html": [
       "<div>\n",
       "<style scoped>\n",
       "    .dataframe tbody tr th:only-of-type {\n",
       "        vertical-align: middle;\n",
       "    }\n",
       "\n",
       "    .dataframe tbody tr th {\n",
       "        vertical-align: top;\n",
       "    }\n",
       "\n",
       "    .dataframe thead th {\n",
       "        text-align: right;\n",
       "    }\n",
       "</style>\n",
       "<table border=\"1\" class=\"dataframe\">\n",
       "  <thead>\n",
       "    <tr style=\"text-align: right;\">\n",
       "      <th></th>\n",
       "      <th>Outlook</th>\n",
       "      <th>Temperature</th>\n",
       "      <th>Windy</th>\n",
       "      <th>Attend</th>\n",
       "    </tr>\n",
       "  </thead>\n",
       "  <tbody>\n",
       "    <tr>\n",
       "      <th>0</th>\n",
       "      <td>sunny</td>\n",
       "      <td>29</td>\n",
       "      <td>no</td>\n",
       "      <td>yes</td>\n",
       "    </tr>\n",
       "    <tr>\n",
       "      <th>1</th>\n",
       "      <td>sunny</td>\n",
       "      <td>27</td>\n",
       "      <td>yes</td>\n",
       "      <td>no</td>\n",
       "    </tr>\n",
       "    <tr>\n",
       "      <th>2</th>\n",
       "      <td>overcast</td>\n",
       "      <td>28</td>\n",
       "      <td>no</td>\n",
       "      <td>yes</td>\n",
       "    </tr>\n",
       "    <tr>\n",
       "      <th>3</th>\n",
       "      <td>rain</td>\n",
       "      <td>21</td>\n",
       "      <td>yes</td>\n",
       "      <td>no</td>\n",
       "    </tr>\n",
       "    <tr>\n",
       "      <th>4</th>\n",
       "      <td>rain</td>\n",
       "      <td>20</td>\n",
       "      <td>no</td>\n",
       "      <td>yes</td>\n",
       "    </tr>\n",
       "    <tr>\n",
       "      <th>5</th>\n",
       "      <td>rain</td>\n",
       "      <td>18</td>\n",
       "      <td>yes</td>\n",
       "      <td>no</td>\n",
       "    </tr>\n",
       "    <tr>\n",
       "      <th>6</th>\n",
       "      <td>overcast</td>\n",
       "      <td>17</td>\n",
       "      <td>yes</td>\n",
       "      <td>yes</td>\n",
       "    </tr>\n",
       "    <tr>\n",
       "      <th>7</th>\n",
       "      <td>sunny</td>\n",
       "      <td>22</td>\n",
       "      <td>no</td>\n",
       "      <td>no</td>\n",
       "    </tr>\n",
       "  </tbody>\n",
       "</table>\n",
       "</div>"
      ],
      "text/plain": [
       "    Outlook  Temperature Windy Attend\n",
       "0     sunny           29    no    yes\n",
       "1     sunny           27   yes     no\n",
       "2  overcast           28    no    yes\n",
       "3      rain           21   yes     no\n",
       "4      rain           20    no    yes\n",
       "5      rain           18   yes     no\n",
       "6  overcast           17   yes    yes\n",
       "7     sunny           22    no     no"
      ]
     },
     "execution_count": 7,
     "metadata": {},
     "output_type": "execute_result"
    }
   ],
   "source": [
    "train_df = pd.read_csv(data_path + \"class_example.csv\")\n",
    "train_df"
   ]
  },
  {
   "cell_type": "code",
   "execution_count": 8,
   "metadata": {},
   "outputs": [],
   "source": [
    "X = train_df.values"
   ]
  },
  {
   "cell_type": "code",
   "execution_count": 9,
   "metadata": {},
   "outputs": [
    {
     "data": {
      "text/plain": [
       "array([['sunny', 29, 'no', 'yes'],\n",
       "       ['sunny', 27, 'yes', 'no'],\n",
       "       ['overcast', 28, 'no', 'yes'],\n",
       "       ['rain', 21, 'yes', 'no'],\n",
       "       ['rain', 20, 'no', 'yes'],\n",
       "       ['rain', 18, 'yes', 'no'],\n",
       "       ['overcast', 17, 'yes', 'yes'],\n",
       "       ['sunny', 22, 'no', 'no']], dtype=object)"
      ]
     },
     "execution_count": 9,
     "metadata": {},
     "output_type": "execute_result"
    }
   ],
   "source": [
    "X"
   ]
  },
  {
   "cell_type": "code",
   "execution_count": 37,
   "metadata": {},
   "outputs": [
    {
     "data": {
      "text/plain": [
       "2"
      ]
     },
     "execution_count": 37,
     "metadata": {},
     "output_type": "execute_result"
    }
   ],
   "source": [
    "def get_question_index(set_, criteria):\n",
    "    \n",
    "    criteria_index = 0\n",
    "    stop = False\n",
    "    \n",
    "    for i in range(len(set_[0])):\n",
    "        for j in range(len(set_)):\n",
    "            current_word = set_[j][i]\n",
    "            if current_word == criteria:\n",
    "                stop = True\n",
    "                break\n",
    "        if stop:\n",
    "            break\n",
    "        else:\n",
    "            criteria_index+=1\n",
    "    \n",
    "    \n",
    "    return criteria_index\n",
    "            \n",
    "get_question_index(X, 'no')"
   ]
  },
  {
   "cell_type": "code",
   "execution_count": 41,
   "metadata": {},
   "outputs": [
    {
     "data": {
      "text/plain": [
       "array([['sunny', 29, 'no', 'yes'],\n",
       "       ['sunny', 27, 'yes', 'no'],\n",
       "       ['overcast', 28, 'no', 'yes'],\n",
       "       ['rain', 21, 'yes', 'no'],\n",
       "       ['rain', 20, 'no', 'yes'],\n",
       "       ['rain', 18, 'yes', 'no'],\n",
       "       ['overcast', 17, 'yes', 'yes'],\n",
       "       ['sunny', 22, 'no', 'no']], dtype=object)"
      ]
     },
     "execution_count": 41,
     "metadata": {},
     "output_type": "execute_result"
    }
   ],
   "source": [
    "X"
   ]
  },
  {
   "cell_type": "code",
   "execution_count": 45,
   "metadata": {},
   "outputs": [
    {
     "name": "stdout",
     "output_type": "stream",
     "text": [
      "0 0\n",
      "0 1\n",
      "0 7\n"
     ]
    }
   ],
   "source": [
    "def make_subset(Set, question):\n",
    "    \n",
    "    question_index = get_question_index(Set, question)\n",
    "    new_list = list()\n",
    "    \n",
    "    list_indeces_to_keep = list()\n",
    "    \n",
    "    for i in range(len(Set[0])):\n",
    "        for j in range(len(Set)):\n",
    "            if i == question_index:\n",
    "                if (Set[j][i] == question):\n",
    "                    print(i, j)\n",
    "\n",
    "make_subset(X, \"sunny\") "
   ]
  },
  {
   "cell_type": "code",
   "execution_count": 16,
   "metadata": {},
   "outputs": [],
   "source": [
    "strings = list()\n",
    "for i in range(len(X[0])):\n",
    "    tmp_list = list()\n",
    "    for j in range(len(X)):\n",
    "        tmp_list.append(str(X[j ,i]))\n",
    "    strings.append(list(set(tmp_list)))"
   ]
  },
  {
   "cell_type": "code",
   "execution_count": 253,
   "metadata": {},
   "outputs": [],
   "source": [
    "def identify_question(question:str)->(int, int):\n",
    "    i = 0\n",
    "    j = 0\n",
    "    for st in strings:\n",
    "        for s in st:\n",
    "            if s == question:\n",
    "                # print(strings[i][j])\n",
    "                return i, j\n",
    "            j+=1\n",
    "        i+=1\n",
    "        j=0\n",
    "        "
   ]
  },
  {
   "cell_type": "code",
   "execution_count": 254,
   "metadata": {},
   "outputs": [
    {
     "data": {
      "text/plain": [
       "(2, 1)"
      ]
     },
     "execution_count": 254,
     "metadata": {},
     "output_type": "execute_result"
    }
   ],
   "source": [
    "identify_question(\"no\")"
   ]
  },
  {
   "cell_type": "code",
   "execution_count": 255,
   "metadata": {},
   "outputs": [
    {
     "data": {
      "text/plain": [
       "(0, 0)"
      ]
     },
     "execution_count": 255,
     "metadata": {},
     "output_type": "execute_result"
    }
   ],
   "source": [
    "identify_question(\"sunny\")"
   ]
  },
  {
   "cell_type": "code",
   "execution_count": 256,
   "metadata": {},
   "outputs": [],
   "source": [
    "question = \"sunny\""
   ]
  },
  {
   "cell_type": "code",
   "execution_count": 257,
   "metadata": {},
   "outputs": [],
   "source": [
    "new_set = list()\n",
    "for i in range(len(X[0])):\n",
    "    for j in range(len(X)):\n",
    "        if X[j][i] == question:\n",
    "            new_set.append(list(X[j]))"
   ]
  },
  {
   "cell_type": "code",
   "execution_count": 258,
   "metadata": {},
   "outputs": [
    {
     "data": {
      "text/plain": [
       "[['sunny', 29, 'no', 'yes'],\n",
       " ['sunny', 27, 'yes', 'no'],\n",
       " ['sunny', 22, 'no', 'no']]"
      ]
     },
     "execution_count": 258,
     "metadata": {},
     "output_type": "execute_result"
    }
   ],
   "source": [
    "new_set"
   ]
  },
  {
   "cell_type": "code",
   "execution_count": 259,
   "metadata": {},
   "outputs": [],
   "source": [
    "def is_the_same(a:list, b:list)->bool:\n",
    "    the_same = True\n",
    "    for i in range(len(a)):\n",
    "        if a[i] != b[i]:\n",
    "            the_same = False\n",
    "            break\n",
    "    print(the_same)\n",
    "    return the_same"
   ]
  },
  {
   "cell_type": "code",
   "execution_count": 260,
   "metadata": {},
   "outputs": [],
   "source": [
    "def make_subSet(Set:list, question:str)->list:\n",
    "    \n",
    "    # question_index = identify_question(question=question)\n",
    "    \n",
    "    new_set = list()\n",
    "    other_set = list()\n",
    "    \n",
    "    for i in range(len(X[0])):\n",
    "        for j in range(len(X)):\n",
    "            if (i == identify_question(question)[0]):\n",
    "                if str(X[j][i]) == question:\n",
    "                    new_set.append(list(X[j]))\n",
    "                    continue\n",
    "                if str(X[j][i]) != question:\n",
    "                    other_set.append(list(X[j]))\n",
    "    \n",
    "    return new_set, other_set"
   ]
  },
  {
   "cell_type": "code",
   "execution_count": 264,
   "metadata": {},
   "outputs": [],
   "source": [
    "a, b = make_subSet(X, \"29\")"
   ]
  },
  {
   "cell_type": "code",
   "execution_count": 265,
   "metadata": {},
   "outputs": [
    {
     "data": {
      "text/plain": [
       "[['sunny', 29, 'no', 'yes']]"
      ]
     },
     "execution_count": 265,
     "metadata": {},
     "output_type": "execute_result"
    }
   ],
   "source": [
    "a"
   ]
  },
  {
   "cell_type": "markdown",
   "metadata": {},
   "source": [
    "## b"
   ]
  },
  {
   "cell_type": "code",
   "execution_count": 267,
   "metadata": {},
   "outputs": [
    {
     "data": {
      "text/plain": [
       "array([['sunny', 29, 'no', 'yes'],\n",
       "       ['sunny', 27, 'yes', 'no'],\n",
       "       ['overcast', 28, 'no', 'yes'],\n",
       "       ['rain', 21, 'yes', 'no'],\n",
       "       ['rain', 20, 'no', 'yes'],\n",
       "       ['rain', 18, 'yes', 'no'],\n",
       "       ['overcast', 17, 'yes', 'yes'],\n",
       "       ['sunny', 22, 'no', 'no']], dtype=object)"
      ]
     },
     "execution_count": 267,
     "metadata": {},
     "output_type": "execute_result"
    }
   ],
   "source": [
    "X"
   ]
  },
  {
   "cell_type": "code",
   "execution_count": 132,
   "metadata": {},
   "outputs": [
    {
     "data": {
      "text/plain": [
       "[['sunny', 'rain', 'overcast'],\n",
       " ['29', '27', '28', '20', '17', '21', '18', '22'],\n",
       " ['yes', 'no'],\n",
       " ['yes', 'no']]"
      ]
     },
     "execution_count": 132,
     "metadata": {},
     "output_type": "execute_result"
    }
   ],
   "source": [
    "strings"
   ]
  },
  {
   "cell_type": "code",
   "execution_count": null,
   "metadata": {},
   "outputs": [],
   "source": []
  },
  {
   "cell_type": "code",
   "execution_count": 6,
   "metadata": {},
   "outputs": [],
   "source": [
    "x = X[X[:, 0] == 'sunny']"
   ]
  },
  {
   "cell_type": "code",
   "execution_count": 7,
   "metadata": {},
   "outputs": [
    {
     "data": {
      "text/plain": [
       "array([['sunny', 29, 'no', 'yes'],\n",
       "       ['sunny', 27, 'yes', 'no'],\n",
       "       ['sunny', 22, 'no', 'no']], dtype=object)"
      ]
     },
     "execution_count": 7,
     "metadata": {},
     "output_type": "execute_result"
    }
   ],
   "source": [
    "x"
   ]
  },
  {
   "cell_type": "code",
   "execution_count": 8,
   "metadata": {},
   "outputs": [],
   "source": [
    "from collections import Counter"
   ]
  },
  {
   "cell_type": "code",
   "execution_count": 9,
   "metadata": {},
   "outputs": [],
   "source": [
    "def entropy(x):\n",
    "    return - x * np.log2(x)"
   ]
  },
  {
   "cell_type": "code",
   "execution_count": 10,
   "metadata": {},
   "outputs": [],
   "source": [
    "def calculate_entropy(sub_set):\n",
    "    \n",
    "    class_labels = sub_set[:, -1]\n",
    "    data = sub_set[:, :-1]\n",
    "    \n",
    "    label_count = Counter(class_labels)\n",
    "    label_total = len(class_labels)\n",
    "    # print(label_count)\n",
    "        \n",
    "    e = 0\n",
    "    for (l, value) in label_count.items():\n",
    "        prob = (value / label_total)\n",
    "        print(value, label_total)\n",
    "        e += entropy(prob)\n",
    "        print(e)\n",
    "        \n",
    "    # print(e)\n",
    "    return e"
   ]
  },
  {
   "cell_type": "code",
   "execution_count": 11,
   "metadata": {},
   "outputs": [
    {
     "name": "stdout",
     "output_type": "stream",
     "text": [
      "4 8\n",
      "0.5\n",
      "4 8\n",
      "1.0\n"
     ]
    }
   ],
   "source": [
    "original_entropy = calculate_entropy(X)"
   ]
  },
  {
   "cell_type": "code",
   "execution_count": 12,
   "metadata": {},
   "outputs": [
    {
     "data": {
      "text/plain": [
       "1.0"
      ]
     },
     "execution_count": 12,
     "metadata": {},
     "output_type": "execute_result"
    }
   ],
   "source": [
    "original_entropy"
   ]
  },
  {
   "cell_type": "code",
   "execution_count": 13,
   "metadata": {},
   "outputs": [
    {
     "name": "stdout",
     "output_type": "stream",
     "text": [
      "1 3\n",
      "0.5283208335737187\n",
      "2 3\n",
      "0.9182958340544896\n"
     ]
    },
    {
     "data": {
      "text/plain": [
       "0.9182958340544896"
      ]
     },
     "execution_count": 13,
     "metadata": {},
     "output_type": "execute_result"
    }
   ],
   "source": [
    "calculate_entropy(x)"
   ]
  },
  {
   "cell_type": "code",
   "execution_count": 14,
   "metadata": {},
   "outputs": [],
   "source": [
    "sub_s = X[:, 0]"
   ]
  },
  {
   "cell_type": "code",
   "execution_count": 15,
   "metadata": {},
   "outputs": [],
   "source": [
    "sub_s_counter = Counter(sub_s)"
   ]
  },
  {
   "cell_type": "code",
   "execution_count": 16,
   "metadata": {},
   "outputs": [
    {
     "data": {
      "text/plain": [
       "Counter({'sunny': 3, 'overcast': 2, 'rain': 3})"
      ]
     },
     "execution_count": 16,
     "metadata": {},
     "output_type": "execute_result"
    }
   ],
   "source": [
    "sub_s_counter"
   ]
  },
  {
   "cell_type": "code",
   "execution_count": 17,
   "metadata": {},
   "outputs": [
    {
     "name": "stdout",
     "output_type": "stream",
     "text": [
      "1 3\n",
      "0.5283208335737187\n",
      "2 3\n",
      "0.9182958340544896\n",
      "2 2\n",
      "0.0\n",
      "2 3\n",
      "0.38997500048077083\n",
      "1 3\n",
      "0.9182958340544896\n"
     ]
    }
   ],
   "source": [
    "sum_ = 0\n",
    "for s in sub_s_counter:\n",
    "    s_freq = sub_s_counter[s]\n",
    "    s_len = len(sub_s)\n",
    "    sub_set = (X[X[:, 0] == s])\n",
    "     \n",
    "    sum_ += (s_freq / s_len * calculate_entropy(sub_set))\n",
    "    "
   ]
  },
  {
   "cell_type": "code",
   "execution_count": 19,
   "metadata": {},
   "outputs": [
    {
     "data": {
      "text/plain": [
       "0.31127812445913283"
      ]
     },
     "execution_count": 19,
     "metadata": {},
     "output_type": "execute_result"
    }
   ],
   "source": [
    "original_entropy - sum_"
   ]
  },
  {
   "cell_type": "code",
   "execution_count": 20,
   "metadata": {},
   "outputs": [
    {
     "data": {
      "text/plain": [
       "0.6887218755408672"
      ]
     },
     "execution_count": 20,
     "metadata": {},
     "output_type": "execute_result"
    }
   ],
   "source": [
    "sum_"
   ]
  },
  {
   "cell_type": "code",
   "execution_count": 21,
   "metadata": {},
   "outputs": [
    {
     "data": {
      "text/plain": [
       "8"
      ]
     },
     "execution_count": 21,
     "metadata": {},
     "output_type": "execute_result"
    }
   ],
   "source": [
    "s_len"
   ]
  },
  {
   "cell_type": "markdown",
   "metadata": {},
   "source": [
    "# Temperature"
   ]
  },
  {
   "cell_type": "code",
   "execution_count": 18,
   "metadata": {},
   "outputs": [
    {
     "data": {
      "text/plain": [
       "(array([29, 27, 28, 21, 20, 18, 17, 22], dtype=object),\n",
       " array(['yes', 'no', 'yes', 'no', 'yes', 'no', 'yes', 'no'], dtype=object))"
      ]
     },
     "execution_count": 18,
     "metadata": {},
     "output_type": "execute_result"
    }
   ],
   "source": [
    "X[:, 1], X[:, -1]"
   ]
  },
  {
   "cell_type": "code",
   "execution_count": 31,
   "metadata": {},
   "outputs": [],
   "source": [
    "a = X[:, 1]"
   ]
  },
  {
   "cell_type": "code",
   "execution_count": 32,
   "metadata": {},
   "outputs": [],
   "source": [
    "a = list(a)"
   ]
  },
  {
   "cell_type": "code",
   "execution_count": 36,
   "metadata": {},
   "outputs": [
    {
     "data": {
      "text/plain": [
       "[17, 18, 20, 21, 22, 27, 28, 29]"
      ]
     },
     "execution_count": 36,
     "metadata": {},
     "output_type": "execute_result"
    }
   ],
   "source": [
    "new_list = list()\n",
    "index_list = list()\n",
    "\n",
    "a_copy = a.copy()\n",
    "while len(new_list) != len(a_copy):\n",
    "    for ind, elem in enumerate(a):\n",
    "        min_value = min(a)\n",
    "        if elem == min_value:\n",
    "            new_list.append(elem)\n",
    "            a.pop(ind)\n",
    "            # index_list.append(ind)\n",
    "new_list"
   ]
  },
  {
   "cell_type": "code",
   "execution_count": 38,
   "metadata": {},
   "outputs": [
    {
     "data": {
      "text/plain": [
       "[29, 27, 28, 21, 20, 18, 17, 22]"
      ]
     },
     "execution_count": 38,
     "metadata": {},
     "output_type": "execute_result"
    }
   ],
   "source": [
    "a_copy"
   ]
  },
  {
   "cell_type": "code",
   "execution_count": 37,
   "metadata": {},
   "outputs": [
    {
     "data": {
      "text/plain": [
       "[17, 18, 20, 21, 22, 27, 28, 29]"
      ]
     },
     "execution_count": 37,
     "metadata": {},
     "output_type": "execute_result"
    }
   ],
   "source": [
    "new_list"
   ]
  },
  {
   "cell_type": "code",
   "execution_count": 41,
   "metadata": {},
   "outputs": [],
   "source": [
    "index_list = [a_copy.index(x) for x in new_list]"
   ]
  },
  {
   "cell_type": "code",
   "execution_count": 42,
   "metadata": {},
   "outputs": [
    {
     "data": {
      "text/plain": [
       "array(['yes', 'no', 'yes', 'no', 'no', 'no', 'yes', 'yes'], dtype=object)"
      ]
     },
     "execution_count": 42,
     "metadata": {},
     "output_type": "execute_result"
    }
   ],
   "source": [
    "X[:, -1][index_list]"
   ]
  },
  {
   "cell_type": "code",
   "execution_count": 43,
   "metadata": {},
   "outputs": [],
   "source": [
    "new_list = np.array(new_list)"
   ]
  },
  {
   "cell_type": "code",
   "execution_count": 44,
   "metadata": {},
   "outputs": [
    {
     "data": {
      "text/plain": [
       "array([False,  True,  True,  True,  True,  True,  True,  True])"
      ]
     },
     "execution_count": 44,
     "metadata": {},
     "output_type": "execute_result"
    }
   ],
   "source": [
    "new_list > 17"
   ]
  },
  {
   "cell_type": "code",
   "execution_count": null,
   "metadata": {},
   "outputs": [],
   "source": [
    "sum_ = 0\n",
    "for s in sub_s_counter:\n",
    "    s_freq = sub_s_counter[s]\n",
    "    s_len = len(sub_s)\n",
    "    sub_set = (X[X[:, 0] == s])\n",
    "     \n",
    "    sum_ += (s_freq / s_len * calculate_entropy(sub_set))\n",
    "    "
   ]
  },
  {
   "cell_type": "code",
   "execution_count": 48,
   "metadata": {},
   "outputs": [
    {
     "data": {
      "text/plain": [
       "array([], shape=(0, 4), dtype=object)"
      ]
     },
     "execution_count": 48,
     "metadata": {},
     "output_type": "execute_result"
    }
   ],
   "source": []
  },
  {
   "cell_type": "code",
   "execution_count": 49,
   "metadata": {},
   "outputs": [
    {
     "name": "stdout",
     "output_type": "stream",
     "text": [
      "0.9852281360342515 17.5\n"
     ]
    },
    {
     "ename": "NameError",
     "evalue": "name 'asdf' is not defined",
     "output_type": "error",
     "traceback": [
      "\u001b[0;31m---------------------------------------------------------------------------\u001b[0m",
      "\u001b[0;31mNameError\u001b[0m                                 Traceback (most recent call last)",
      "\u001b[0;32m<ipython-input-49-a41ff3a71c24>\u001b[0m in \u001b[0;36m<module>\u001b[0;34m\u001b[0m\n\u001b[1;32m      7\u001b[0m \u001b[0;34m\u001b[0m\u001b[0m\n\u001b[1;32m      8\u001b[0m     \u001b[0mprint\u001b[0m\u001b[0;34m(\u001b[0m\u001b[0mcalculate_entropy\u001b[0m\u001b[0;34m(\u001b[0m\u001b[0mnp\u001b[0m\u001b[0;34m.\u001b[0m\u001b[0marray\u001b[0m\u001b[0;34m(\u001b[0m\u001b[0mt\u001b[0m\u001b[0;34m)\u001b[0m\u001b[0;34m)\u001b[0m\u001b[0;34m,\u001b[0m \u001b[0mquestion\u001b[0m\u001b[0;34m)\u001b[0m\u001b[0;34m\u001b[0m\u001b[0;34m\u001b[0m\u001b[0m\n\u001b[0;32m----> 9\u001b[0;31m     \u001b[0masdf\u001b[0m\u001b[0;34m\u001b[0m\u001b[0;34m\u001b[0m\u001b[0m\n\u001b[0m",
      "\u001b[0;31mNameError\u001b[0m: name 'asdf' is not defined"
     ]
    }
   ],
   "source": [
    "sum_ = 0\n",
    "for temp in new_list:\n",
    "    \n",
    "    question = (temp + .5)\n",
    "    bool_question = new_list > question\n",
    "    t =  X[index_list][bool_question]\n",
    "    \n",
    "    print(calculate_entropy(np.array(t)), question)\n",
    "    asdf"
   ]
  },
  {
   "cell_type": "code",
   "execution_count": 51,
   "metadata": {},
   "outputs": [
    {
     "data": {
      "text/plain": [
       "Counter({'sunny': 3, 'overcast': 2, 'rain': 3})"
      ]
     },
     "execution_count": 51,
     "metadata": {},
     "output_type": "execute_result"
    }
   ],
   "source": [
    "sub_s_counter"
   ]
  },
  {
   "cell_type": "code",
   "execution_count": 50,
   "metadata": {},
   "outputs": [
    {
     "data": {
      "text/plain": [
       "array([['rain', 18, 'yes', 'no'],\n",
       "       ['rain', 20, 'no', 'yes'],\n",
       "       ['rain', 21, 'yes', 'no'],\n",
       "       ['sunny', 22, 'no', 'no'],\n",
       "       ['sunny', 27, 'yes', 'no'],\n",
       "       ['overcast', 28, 'no', 'yes'],\n",
       "       ['sunny', 29, 'no', 'yes']], dtype=object)"
      ]
     },
     "execution_count": 50,
     "metadata": {},
     "output_type": "execute_result"
    }
   ],
   "source": [
    "t"
   ]
  },
  {
   "cell_type": "code",
   "execution_count": null,
   "metadata": {},
   "outputs": [],
   "source": []
  },
  {
   "cell_type": "code",
   "execution_count": null,
   "metadata": {},
   "outputs": [],
   "source": []
  },
  {
   "cell_type": "code",
   "execution_count": null,
   "metadata": {},
   "outputs": [],
   "source": []
  },
  {
   "cell_type": "code",
   "execution_count": null,
   "metadata": {},
   "outputs": [],
   "source": []
  },
  {
   "cell_type": "code",
   "execution_count": null,
   "metadata": {},
   "outputs": [],
   "source": []
  },
  {
   "cell_type": "code",
   "execution_count": null,
   "metadata": {},
   "outputs": [],
   "source": []
  },
  {
   "cell_type": "code",
   "execution_count": null,
   "metadata": {},
   "outputs": [],
   "source": []
  }
 ],
 "metadata": {
  "kernelspec": {
   "display_name": "Python 3",
   "language": "python",
   "name": "python3"
  },
  "language_info": {
   "codemirror_mode": {
    "name": "ipython",
    "version": 3
   },
   "file_extension": ".py",
   "mimetype": "text/x-python",
   "name": "python",
   "nbconvert_exporter": "python",
   "pygments_lexer": "ipython3",
   "version": "3.6.8"
  }
 },
 "nbformat": 4,
 "nbformat_minor": 2
}
